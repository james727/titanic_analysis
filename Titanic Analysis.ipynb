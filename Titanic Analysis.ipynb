{
 "cells": [
  {
   "cell_type": "markdown",
   "metadata": {},
   "source": [
    "# Predicting survival on the Titanic\n",
    "This is the second in a series of analyses I'm doing on famous datasets. The first was an analysis of the iris dataset, which can also be found on my github. As with the iris analysis, my goal is not to reinvent the wheel here. My goal is to educate both myself and anyone who deigns to read this notebook. In particular, with this analysis I'd like to focus on two specific topics:\n",
    "1. Feature selection and engineering - for this I'll draw heavily on the fantastic R notebook posted by Megan Risdal to Kaggle at https://www.kaggle.com/mrisdal/titanic/exploring-survival-on-the-titanic\n",
    "2. Model selection and validation - the techniques I'll use here are drawn from a variety of sources, most notably the 'Parallel Machine Learning with Python' notebooks by Olivier Grisel, availabale here: https://github.com/ogrisel/parallel_ml_tutorial"
   ]
  },
  {
   "cell_type": "markdown",
   "metadata": {},
   "source": [
    "## Load data"
   ]
  },
  {
   "cell_type": "code",
   "execution_count": 198,
   "metadata": {
    "collapsed": false
   },
   "outputs": [
    {
     "name": "stdout",
     "output_type": "stream",
     "text": [
      "<class 'pandas.core.frame.DataFrame'>\n",
      "Int64Index: 891 entries, 0 to 890\n",
      "Data columns (total 12 columns):\n",
      "PassengerId    891 non-null int64\n",
      "Survived       891 non-null int64\n",
      "Pclass         891 non-null int64\n",
      "Name           891 non-null object\n",
      "Sex            891 non-null object\n",
      "Age            714 non-null float64\n",
      "SibSp          891 non-null int64\n",
      "Parch          891 non-null int64\n",
      "Ticket         891 non-null object\n",
      "Fare           891 non-null float64\n",
      "Cabin          204 non-null object\n",
      "Embarked       889 non-null object\n",
      "dtypes: float64(2), int64(5), object(5)\n",
      "memory usage: 90.5+ KB\n"
     ]
    }
   ],
   "source": [
    "import pandas as pd\n",
    "df = pd.read_csv('train.csv')\n",
    "df.info()"
   ]
  },
  {
   "cell_type": "markdown",
   "metadata": {},
   "source": [
    "It appears we have data for 891 passengers. However, not every column has 891 values. That's something we'll need to keep in mind and rectify in the next section."
   ]
  },
  {
   "cell_type": "markdown",
   "metadata": {},
   "source": [
    "## Feature engineering overview\n",
    "Before we can build a classifier, we need to do some work to clean up the features of this dataset. For the sake of this analysis, I'll break down the feature engineering work we need to do into 2 components:\n",
    "1. Filling in missing values for existing features - Some of the columns are missing values (Age, Cabin, Embarked). We'll need to do some work here to make sure our final dataset has the full number of values for each feature.\n",
    "2. Creating new features - We can extract some additional information from the columns in the dataset (for example, map surnames to a new 'Family' feature). "
   ]
  },
  {
   "cell_type": "markdown",
   "metadata": {},
   "source": [
    "## Filling missing values\n",
    "Based on the summary of the dataframe above, we have 3 columns that we need to figure out how to fill in:\n",
    "1. Age - Missing ~175 values\n",
    "2. Cabin - Missing ~500 values\n",
    "3. Embarked - Missing 2 values  \n",
    "  \n",
    "There are generally 3 approaches to filling missing values in a dataset:\n",
    "1. Remove the rows in question\n",
    "2. Fill in values with some sort of mean/median statistic\n",
    "3. Predict the missing values based on the values of other features  \n",
    "  \n",
    "For this analysis, we'll show how to do both 2 and 3. We won't be eliminating any rows since this dataset is quite small, and it's rarely the best way to handle missing values anyways. We'll start by filling in the missing 'embarked' values. We'll plan on using the mode to fill these in (note: prediction using other features would likely end up being more accurate. I wanted to demonstrate how to fill in values based on summary statistics and decided to do it with 'embarked' because it's only missing 2 values).  \n",
    "\n",
    "Sidebar - the chapter at http://www.stat.columbia.edu/~gelman/arm/missing.pdf was very helpful in learning about various methods to impute missing values.\n",
    "\n",
    "First, let's examine the 'embarked' variable:"
   ]
  },
  {
   "cell_type": "code",
   "execution_count": 199,
   "metadata": {
    "collapsed": false
   },
   "outputs": [
    {
     "data": {
      "image/png": "[encoded data removed]",
      "text/plain": [
       "<matplotlib.figure.Figure at 0x12432bd10>"
      ]
     },
     "metadata": {},
     "output_type": "display_data"
    }
   ],
   "source": [
    "import seaborn as sns\n",
    "import matplotlib.pyplot as plt\n",
    "%matplotlib inline\n",
    "surv_plot = sns.countplot(x='Embarked', hue=\"Survived\", data=df)"
   ]
  },
  {
   "cell_type": "markdown",
   "metadata": {},
   "source": [
    "Looks like the vast majority of passengers embarked at Port S. However, passengers at Port S had a higher chance of dying than the others. Let's do some quick checks to see if it looks like it's because of the port itself, or a different variable:"
   ]
  },
  {
   "cell_type": "code",
   "execution_count": 200,
   "metadata": {
    "collapsed": false
   },
   "outputs": [
    {
     "data": {
      "image/png": "[encoded data removed]",
      "text/plain": [
       "<matplotlib.figure.Figure at 0x1241ad310>"
      ]
     },
     "metadata": {},
     "output_type": "display_data"
    }
   ],
   "source": [
    "embark_plot = sns.barplot(x=\"Embarked\", y=\"Survived\", hue=\"Pclass\", data=df)"
   ]
  },
  {
   "cell_type": "markdown",
   "metadata": {},
   "source": [
    "Now let's take a closer look at the passengers that are missing the 'Embarked' feature:"
   ]
  },
  {
   "cell_type": "code",
   "execution_count": 201,
   "metadata": {
    "collapsed": false
   },
   "outputs": [
    {
     "data": {
      "text/html": [
       "<div>\n",
       "<table border=\"1\" class=\"dataframe\">\n",
       "  <thead>\n",
       "    <tr style=\"text-align: right;\">\n",
       "      <th></th>\n",
       "      <th>PassengerId</th>\n",
       "      <th>Pclass</th>\n",
       "      <th>Name</th>\n",
       "      <th>Sex</th>\n",
       "      <th>Age</th>\n",
       "      <th>SibSp</th>\n",
       "      <th>Parch</th>\n",
       "      <th>Ticket</th>\n",
       "      <th>Fare</th>\n",
       "      <th>Cabin</th>\n",
       "      <th>Embarked</th>\n",
       "    </tr>\n",
       "    <tr>\n",
       "      <th>Survived</th>\n",
       "      <th></th>\n",
       "      <th></th>\n",
       "      <th></th>\n",
       "      <th></th>\n",
       "      <th></th>\n",
       "      <th></th>\n",
       "      <th></th>\n",
       "      <th></th>\n",
       "      <th></th>\n",
       "      <th></th>\n",
       "      <th></th>\n",
       "    </tr>\n",
       "  </thead>\n",
       "  <tbody>\n",
       "    <tr>\n",
       "      <th>0</th>\n",
       "      <td>549</td>\n",
       "      <td>549</td>\n",
       "      <td>549</td>\n",
       "      <td>549</td>\n",
       "      <td>424</td>\n",
       "      <td>549</td>\n",
       "      <td>549</td>\n",
       "      <td>549</td>\n",
       "      <td>549</td>\n",
       "      <td>68</td>\n",
       "      <td>549</td>\n",
       "    </tr>\n",
       "    <tr>\n",
       "      <th>1</th>\n",
       "      <td>342</td>\n",
       "      <td>342</td>\n",
       "      <td>342</td>\n",
       "      <td>342</td>\n",
       "      <td>290</td>\n",
       "      <td>342</td>\n",
       "      <td>342</td>\n",
       "      <td>342</td>\n",
       "      <td>342</td>\n",
       "      <td>136</td>\n",
       "      <td>340</td>\n",
       "    </tr>\n",
       "  </tbody>\n",
       "</table>\n",
       "</div>"
      ],
      "text/plain": [
       "          PassengerId  Pclass  Name  Sex  Age  SibSp  Parch  Ticket  Fare  \\\n",
       "Survived                                                                    \n",
       "0                 549     549   549  549  424    549    549     549   549   \n",
       "1                 342     342   342  342  290    342    342     342   342   \n",
       "\n",
       "          Cabin  Embarked  \n",
       "Survived                   \n",
       "0            68       549  \n",
       "1           136       340  "
      ]
     },
     "execution_count": 201,
     "metadata": {},
     "output_type": "execute_result"
    }
   ],
   "source": [
    "df.groupby('Survived').count()"
   ]
  },
  {
   "cell_type": "markdown",
   "metadata": {},
   "source": [
    "Looks like both of the passengers missing the 'Embarked' feature ended up surviving. Let's look at the rows themselves:"
   ]
  },
  {
   "cell_type": "code",
   "execution_count": 202,
   "metadata": {
    "collapsed": false
   },
   "outputs": [
    {
     "data": {
      "text/html": [
       "<div>\n",
       "<table border=\"1\" class=\"dataframe\">\n",
       "  <thead>\n",
       "    <tr style=\"text-align: right;\">\n",
       "      <th></th>\n",
       "      <th>PassengerId</th>\n",
       "      <th>Survived</th>\n",
       "      <th>Pclass</th>\n",
       "      <th>Name</th>\n",
       "      <th>Sex</th>\n",
       "      <th>Age</th>\n",
       "      <th>SibSp</th>\n",
       "      <th>Parch</th>\n",
       "      <th>Ticket</th>\n",
       "      <th>Fare</th>\n",
       "      <th>Cabin</th>\n",
       "      <th>Embarked</th>\n",
       "    </tr>\n",
       "  </thead>\n",
       "  <tbody>\n",
       "    <tr>\n",
       "      <th>61</th>\n",
       "      <td>62</td>\n",
       "      <td>1</td>\n",
       "      <td>1</td>\n",
       "      <td>Icard, Miss. Amelie</td>\n",
       "      <td>female</td>\n",
       "      <td>38</td>\n",
       "      <td>0</td>\n",
       "      <td>0</td>\n",
       "      <td>113572</td>\n",
       "      <td>80</td>\n",
       "      <td>B28</td>\n",
       "      <td>NaN</td>\n",
       "    </tr>\n",
       "    <tr>\n",
       "      <th>829</th>\n",
       "      <td>830</td>\n",
       "      <td>1</td>\n",
       "      <td>1</td>\n",
       "      <td>Stone, Mrs. George Nelson (Martha Evelyn)</td>\n",
       "      <td>female</td>\n",
       "      <td>62</td>\n",
       "      <td>0</td>\n",
       "      <td>0</td>\n",
       "      <td>113572</td>\n",
       "      <td>80</td>\n",
       "      <td>B28</td>\n",
       "      <td>NaN</td>\n",
       "    </tr>\n",
       "  </tbody>\n",
       "</table>\n",
       "</div>"
      ],
      "text/plain": [
       "     PassengerId  Survived  Pclass                                       Name  \\\n",
       "61            62         1       1                        Icard, Miss. Amelie   \n",
       "829          830         1       1  Stone, Mrs. George Nelson (Martha Evelyn)   \n",
       "\n",
       "        Sex  Age  SibSp  Parch  Ticket  Fare Cabin Embarked  \n",
       "61   female   38      0      0  113572    80   B28      NaN  \n",
       "829  female   62      0      0  113572    80   B28      NaN  "
      ]
     },
     "execution_count": 202,
     "metadata": {},
     "output_type": "execute_result"
    }
   ],
   "source": [
    "df[pd.isnull(df['Embarked'])]"
   ]
  },
  {
   "cell_type": "markdown",
   "metadata": {},
   "source": [
    "So they're both women in the same cabin. Let's take a look at their cabin before we impute the values:"
   ]
  },
  {
   "cell_type": "code",
   "execution_count": 203,
   "metadata": {
    "collapsed": false
   },
   "outputs": [
    {
     "data": {
      "image/png": "[encoded data removed]",
      "text/plain": [
       "<matplotlib.figure.Figure at 0x123ef41d0>"
      ]
     },
     "metadata": {},
     "output_type": "display_data"
    }
   ],
   "source": [
    "cabin_plot = sns.barplot(x='Cabin',y='Survived',data=df)"
   ]
  },
  {
   "cell_type": "markdown",
   "metadata": {},
   "source": [
    "That didn't work too well. Let's take a look at the values cabin can take - it looks like there are too many values to examine in this fashion."
   ]
  },
  {
   "cell_type": "code",
   "execution_count": 204,
   "metadata": {
    "collapsed": false
   },
   "outputs": [
    {
     "data": {
      "text/plain": [
       "array([nan, 'C85', 'C123', 'E46', 'G6', 'C103', 'D56', 'A6', 'C23 C25 C27',\n",
       "       'B78', 'D33', 'B30', 'C52', 'B28', 'C83', 'F33', 'F G73', 'E31',\n",
       "       'A5', 'D10 D12', 'D26', 'C110', 'B58 B60', 'E101', 'F E69', 'D47',\n",
       "       'B86', 'F2', 'C2', 'E33', 'B19', 'A7', 'C49', 'F4', 'A32', 'B4',\n",
       "       'B80', 'A31', 'D36', 'D15', 'C93', 'C78', 'D35', 'C87', 'B77',\n",
       "       'E67', 'B94', 'C125', 'C99', 'C118', 'D7', 'A19', 'B49', 'D',\n",
       "       'C22 C26', 'C106', 'C65', 'E36', 'C54', 'B57 B59 B63 B66', 'C7',\n",
       "       'E34', 'C32', 'B18', 'C124', 'C91', 'E40', 'T', 'C128', 'D37',\n",
       "       'B35', 'E50', 'C82', 'B96 B98', 'E10', 'E44', 'A34', 'C104', 'C111',\n",
       "       'C92', 'E38', 'D21', 'E12', 'E63', 'A14', 'B37', 'C30', 'D20',\n",
       "       'B79', 'E25', 'D46', 'B73', 'C95', 'B38', 'B39', 'B22', 'C86',\n",
       "       'C70', 'A16', 'C101', 'C68', 'A10', 'E68', 'B41', 'A20', 'D19',\n",
       "       'D50', 'D9', 'A23', 'B50', 'A26', 'D48', 'E58', 'C126', 'B71',\n",
       "       'B51 B53 B55', 'D49', 'B5', 'B20', 'F G63', 'C62 C64', 'E24', 'C90',\n",
       "       'C45', 'E8', 'B101', 'D45', 'C46', 'D30', 'E121', 'D11', 'E77',\n",
       "       'F38', 'B3', 'D6', 'B82 B84', 'D17', 'A36', 'B102', 'B69', 'E49',\n",
       "       'C47', 'D28', 'E17', 'A24', 'C50', 'B42', 'C148'], dtype=object)"
      ]
     },
     "execution_count": 204,
     "metadata": {},
     "output_type": "execute_result"
    }
   ],
   "source": [
    "df.Cabin.unique()"
   ]
  },
  {
   "cell_type": "markdown",
   "metadata": {},
   "source": [
    "There are definitely more discrete values for cabin than we'd like to show a relationship between the specific cabin and where someone embarked. However, this list does suggest another feature we can create. We can just take the first letter of the cabin and use that to create a new feature called 'Deck'. Let's do that and see where people embarked by deck."
   ]
  },
  {
   "cell_type": "code",
   "execution_count": 205,
   "metadata": {
    "collapsed": false
   },
   "outputs": [
    {
     "data": {
      "text/plain": [
       "array([nan, 'C', 'E', 'G', 'D', 'A', 'B', 'F', 'T'], dtype=object)"
      ]
     },
     "execution_count": 205,
     "metadata": {},
     "output_type": "execute_result"
    }
   ],
   "source": [
    "decks = df['Cabin'].apply(lambda x: x[0] if not pd.isnull(x) else x)\n",
    "deck_series = pd.Series(decks)\n",
    "df['Deck'] = deck_series\n",
    "df.Deck.unique()"
   ]
  },
  {
   "cell_type": "code",
   "execution_count": 206,
   "metadata": {
    "collapsed": false
   },
   "outputs": [
    {
     "data": {
      "image/png": "[encoded data removed]",
      "text/plain": [
       "<matplotlib.figure.Figure at 0x123b86ed0>"
      ]
     },
     "metadata": {},
     "output_type": "display_data"
    }
   ],
   "source": [
    "deck_plot = sns.barplot(x='Deck', y='Survived', hue = 'Embarked', data=df)"
   ]
  },
  {
   "cell_type": "markdown",
   "metadata": {},
   "source": [
    "So the port of embarkation didn't have much of an impact on survival rate relative to their cabin. At this point, I'm happy to impute the values for 'Embarked' as the mode of the column (port S)."
   ]
  },
  {
   "cell_type": "code",
   "execution_count": 207,
   "metadata": {
    "collapsed": false
   },
   "outputs": [
    {
     "data": {
      "text/html": [
       "<div>\n",
       "<table border=\"1\" class=\"dataframe\">\n",
       "  <thead>\n",
       "    <tr style=\"text-align: right;\">\n",
       "      <th></th>\n",
       "      <th>PassengerId</th>\n",
       "      <th>Survived</th>\n",
       "      <th>Pclass</th>\n",
       "      <th>Name</th>\n",
       "      <th>Sex</th>\n",
       "      <th>Age</th>\n",
       "      <th>SibSp</th>\n",
       "      <th>Parch</th>\n",
       "      <th>Ticket</th>\n",
       "      <th>Fare</th>\n",
       "      <th>Cabin</th>\n",
       "      <th>Deck</th>\n",
       "    </tr>\n",
       "    <tr>\n",
       "      <th>Embarked</th>\n",
       "      <th></th>\n",
       "      <th></th>\n",
       "      <th></th>\n",
       "      <th></th>\n",
       "      <th></th>\n",
       "      <th></th>\n",
       "      <th></th>\n",
       "      <th></th>\n",
       "      <th></th>\n",
       "      <th></th>\n",
       "      <th></th>\n",
       "      <th></th>\n",
       "    </tr>\n",
       "  </thead>\n",
       "  <tbody>\n",
       "    <tr>\n",
       "      <th>C</th>\n",
       "      <td>168</td>\n",
       "      <td>168</td>\n",
       "      <td>168</td>\n",
       "      <td>168</td>\n",
       "      <td>168</td>\n",
       "      <td>130</td>\n",
       "      <td>168</td>\n",
       "      <td>168</td>\n",
       "      <td>168</td>\n",
       "      <td>168</td>\n",
       "      <td>69</td>\n",
       "      <td>69</td>\n",
       "    </tr>\n",
       "    <tr>\n",
       "      <th>Q</th>\n",
       "      <td>77</td>\n",
       "      <td>77</td>\n",
       "      <td>77</td>\n",
       "      <td>77</td>\n",
       "      <td>77</td>\n",
       "      <td>28</td>\n",
       "      <td>77</td>\n",
       "      <td>77</td>\n",
       "      <td>77</td>\n",
       "      <td>77</td>\n",
       "      <td>4</td>\n",
       "      <td>4</td>\n",
       "    </tr>\n",
       "    <tr>\n",
       "      <th>S</th>\n",
       "      <td>646</td>\n",
       "      <td>646</td>\n",
       "      <td>646</td>\n",
       "      <td>646</td>\n",
       "      <td>646</td>\n",
       "      <td>556</td>\n",
       "      <td>646</td>\n",
       "      <td>646</td>\n",
       "      <td>646</td>\n",
       "      <td>646</td>\n",
       "      <td>131</td>\n",
       "      <td>131</td>\n",
       "    </tr>\n",
       "  </tbody>\n",
       "</table>\n",
       "</div>"
      ],
      "text/plain": [
       "          PassengerId  Survived  Pclass  Name  Sex  Age  SibSp  Parch  Ticket  \\\n",
       "Embarked                                                                        \n",
       "C                 168       168     168   168  168  130    168    168     168   \n",
       "Q                  77        77      77    77   77   28     77     77      77   \n",
       "S                 646       646     646   646  646  556    646    646     646   \n",
       "\n",
       "          Fare  Cabin  Deck  \n",
       "Embarked                     \n",
       "C          168     69    69  \n",
       "Q           77      4     4  \n",
       "S          646    131   131  "
      ]
     },
     "execution_count": 207,
     "metadata": {},
     "output_type": "execute_result"
    }
   ],
   "source": [
    "df['Embarked'] = df['Embarked'].fillna('S')\n",
    "df.groupby('Embarked').count()"
   ]
  },
  {
   "cell_type": "code",
   "execution_count": 208,
   "metadata": {
    "collapsed": false
   },
   "outputs": [
    {
     "data": {
      "text/html": [
       "<div>\n",
       "<table border=\"1\" class=\"dataframe\">\n",
       "  <thead>\n",
       "    <tr style=\"text-align: right;\">\n",
       "      <th></th>\n",
       "      <th>PassengerId</th>\n",
       "      <th>Survived</th>\n",
       "      <th>Pclass</th>\n",
       "      <th>Name</th>\n",
       "      <th>Sex</th>\n",
       "      <th>Age</th>\n",
       "      <th>SibSp</th>\n",
       "      <th>Parch</th>\n",
       "      <th>Ticket</th>\n",
       "      <th>Fare</th>\n",
       "      <th>Cabin</th>\n",
       "      <th>Embarked</th>\n",
       "      <th>Deck</th>\n",
       "    </tr>\n",
       "  </thead>\n",
       "  <tbody>\n",
       "    <tr>\n",
       "      <th>61</th>\n",
       "      <td>62</td>\n",
       "      <td>1</td>\n",
       "      <td>1</td>\n",
       "      <td>Icard, Miss. Amelie</td>\n",
       "      <td>female</td>\n",
       "      <td>38</td>\n",
       "      <td>0</td>\n",
       "      <td>0</td>\n",
       "      <td>113572</td>\n",
       "      <td>80</td>\n",
       "      <td>B28</td>\n",
       "      <td>S</td>\n",
       "      <td>B</td>\n",
       "    </tr>\n",
       "    <tr>\n",
       "      <th>829</th>\n",
       "      <td>830</td>\n",
       "      <td>1</td>\n",
       "      <td>1</td>\n",
       "      <td>Stone, Mrs. George Nelson (Martha Evelyn)</td>\n",
       "      <td>female</td>\n",
       "      <td>62</td>\n",
       "      <td>0</td>\n",
       "      <td>0</td>\n",
       "      <td>113572</td>\n",
       "      <td>80</td>\n",
       "      <td>B28</td>\n",
       "      <td>S</td>\n",
       "      <td>B</td>\n",
       "    </tr>\n",
       "  </tbody>\n",
       "</table>\n",
       "</div>"
      ],
      "text/plain": [
       "     PassengerId  Survived  Pclass                                       Name  \\\n",
       "61            62         1       1                        Icard, Miss. Amelie   \n",
       "829          830         1       1  Stone, Mrs. George Nelson (Martha Evelyn)   \n",
       "\n",
       "        Sex  Age  SibSp  Parch  Ticket  Fare Cabin Embarked Deck  \n",
       "61   female   38      0      0  113572    80   B28        S    B  \n",
       "829  female   62      0      0  113572    80   B28        S    B  "
      ]
     },
     "execution_count": 208,
     "metadata": {},
     "output_type": "execute_result"
    }
   ],
   "source": [
    "df[df['PassengerId'].isin([62,830])]"
   ]
  },
  {
   "cell_type": "markdown",
   "metadata": {},
   "source": [
    "And so the 'embarked' feature was imputed correctly. Now let's move on to the 'age' feature. For this, we'll try and see if we can predict it using some of the other features. In particular, I have a hypothesis that we can use the following features to impute age to some degree of accuracy:\n",
    "1. SibSp - Number of siblings or spouses aboard. If this is >1 it may indicate younger people with multiple siblings.\n",
    "2. Parch - Number of parents/children aboard. If this is >2, it probably means someone has children, and thus is older.\n",
    "\n",
    "Let's look at SibSp and Parch:"
   ]
  },
  {
   "cell_type": "code",
   "execution_count": 209,
   "metadata": {
    "collapsed": false
   },
   "outputs": [
    {
     "data": {
      "image/png": "[encoded data removed]",
      "text/plain": [
       "<matplotlib.figure.Figure at 0x123ef6990>"
      ]
     },
     "metadata": {},
     "output_type": "display_data"
    }
   ],
   "source": [
    "sibsp_plot = sns.stripplot(x='SibSp',y='Age',data=df,alpha=0.5, jitter=True)"
   ]
  },
  {
   "cell_type": "markdown",
   "metadata": {},
   "source": [
    "Looks like there's definitely an inverse relationship between SibSp and Age. Now let's look at Parch:"
   ]
  },
  {
   "cell_type": "code",
   "execution_count": 210,
   "metadata": {
    "collapsed": false
   },
   "outputs": [
    {
     "data": {
      "image/png": "[encoded data removed]",
      "text/plain": [
       "<matplotlib.figure.Figure at 0x1236bb350>"
      ]
     },
     "metadata": {},
     "output_type": "display_data"
    }
   ],
   "source": [
    "parch_plot = sns.stripplot(x='Parch',y='Age',data=df, jitter=True, alpha=0.5)"
   ]
  },
  {
   "cell_type": "markdown",
   "metadata": {},
   "source": [
    "The relationship here's not so clear, but it does look like if you have no parents or children on board, you were likely 15+, while people with 1 or 2 parents/children on board skewed younger. Let's now create our predictor for imputing age. We need to convert some of our non-numeric columns to numeric first."
   ]
  },
  {
   "cell_type": "code",
   "execution_count": 211,
   "metadata": {
    "collapsed": false
   },
   "outputs": [
    {
     "data": {
      "text/plain": [
       "array(['S', 'C', 'Q'], dtype=object)"
      ]
     },
     "execution_count": 211,
     "metadata": {},
     "output_type": "execute_result"
    }
   ],
   "source": [
    "#numerical_features = df[['SibSp', 'Parch', 'Pclass','Fare']].copy(deep=True)\n",
    "#non_numerical_features = df[['Sex','Embarked','Deck']]\n",
    "# Note - you can use sklearn's OneHotEncoder to create binary features from categorical features, \n",
    "# but I find it a bit clumsy to use. Also, we're not using deck or cabin here because we haven't \n",
    "# imputed their values yet.\n",
    "\n",
    "# Encode sex binary\n",
    "sex_series = df['Sex'].apply(lambda x: 1 if x == 'female' else 0)\n",
    "\n",
    "# let's examine the embarked values before converting to binary features\n",
    "non_numerical_features['Embarked'].unique()"
   ]
  },
  {
   "cell_type": "code",
   "execution_count": 212,
   "metadata": {
    "collapsed": false
   },
   "outputs": [],
   "source": [
    "embarked_S_series = df['Embarked'].apply(lambda x: 1 if x == 'S' else 0)\n",
    "embarked_C_series = df['Embarked'].apply(lambda x: 1 if x == 'C' else 0)\n",
    "embarked_Q_series = df['Embarked'].apply(lambda x: 1 if x == 'Q' else 0)"
   ]
  },
  {
   "cell_type": "code",
   "execution_count": 225,
   "metadata": {
    "collapsed": false
   },
   "outputs": [
    {
     "ename": "KeyError",
     "evalue": "'Sex'",
     "output_type": "error",
     "traceback": [
      "\u001b[0;31m---------------------------------------------------------------------------\u001b[0m",
      "\u001b[0;31mKeyError\u001b[0m                                  Traceback (most recent call last)",
      "\u001b[0;32m<ipython-input-225-dbe59582e749>\u001b[0m in \u001b[0;36m<module>\u001b[0;34m()\u001b[0m\n\u001b[1;32m      3\u001b[0m \u001b[0mdf\u001b[0m\u001b[0;34m[\u001b[0m\u001b[0;34m'Embarked_C'\u001b[0m\u001b[0;34m]\u001b[0m \u001b[0;34m=\u001b[0m \u001b[0membarked_C_series\u001b[0m\u001b[0;34m\u001b[0m\u001b[0m\n\u001b[1;32m      4\u001b[0m \u001b[0mdf\u001b[0m\u001b[0;34m[\u001b[0m\u001b[0;34m'Embarked_Q'\u001b[0m\u001b[0;34m]\u001b[0m \u001b[0;34m=\u001b[0m \u001b[0membarked_Q_series\u001b[0m\u001b[0;34m\u001b[0m\u001b[0m\n\u001b[0;32m----> 5\u001b[0;31m \u001b[0;32mdel\u001b[0m \u001b[0mdf\u001b[0m\u001b[0;34m[\u001b[0m\u001b[0;34m'Sex'\u001b[0m\u001b[0;34m]\u001b[0m\u001b[0;34m\u001b[0m\u001b[0m\n\u001b[0m\u001b[1;32m      6\u001b[0m \u001b[0;32mdel\u001b[0m \u001b[0mdf\u001b[0m\u001b[0;34m[\u001b[0m\u001b[0;34m'Embarked'\u001b[0m\u001b[0;34m]\u001b[0m\u001b[0;34m\u001b[0m\u001b[0m\n\u001b[1;32m      7\u001b[0m \u001b[0mdf\u001b[0m\u001b[0;34m.\u001b[0m\u001b[0minfo\u001b[0m\u001b[0;34m(\u001b[0m\u001b[0;34m)\u001b[0m\u001b[0;34m\u001b[0m\u001b[0m\n",
      "\u001b[0;32m/Users/james/anaconda/lib/python2.7/site-packages/pandas/core/generic.pyc\u001b[0m in \u001b[0;36m__delitem__\u001b[0;34m(self, key)\u001b[0m\n\u001b[1;32m   1342\u001b[0m             \u001b[0;31m# there was no match, this call should raise the appropriate\u001b[0m\u001b[0;34m\u001b[0m\u001b[0;34m\u001b[0m\u001b[0m\n\u001b[1;32m   1343\u001b[0m             \u001b[0;31m# exception:\u001b[0m\u001b[0;34m\u001b[0m\u001b[0;34m\u001b[0m\u001b[0m\n\u001b[0;32m-> 1344\u001b[0;31m             \u001b[0mself\u001b[0m\u001b[0;34m.\u001b[0m\u001b[0m_data\u001b[0m\u001b[0;34m.\u001b[0m\u001b[0mdelete\u001b[0m\u001b[0;34m(\u001b[0m\u001b[0mkey\u001b[0m\u001b[0;34m)\u001b[0m\u001b[0;34m\u001b[0m\u001b[0m\n\u001b[0m\u001b[1;32m   1345\u001b[0m \u001b[0;34m\u001b[0m\u001b[0m\n\u001b[1;32m   1346\u001b[0m         \u001b[0;31m# delete from the caches\u001b[0m\u001b[0;34m\u001b[0m\u001b[0;34m\u001b[0m\u001b[0m\n",
      "\u001b[0;32m/Users/james/anaconda/lib/python2.7/site-packages/pandas/core/internals.pyc\u001b[0m in \u001b[0;36mdelete\u001b[0;34m(self, item)\u001b[0m\n\u001b[1;32m   3266\u001b[0m         \u001b[0mDelete\u001b[0m \u001b[0mselected\u001b[0m \u001b[0mitem\u001b[0m \u001b[0;34m(\u001b[0m\u001b[0mitems\u001b[0m \u001b[0;32mif\u001b[0m \u001b[0mnon\u001b[0m\u001b[0;34m-\u001b[0m\u001b[0munique\u001b[0m\u001b[0;34m)\u001b[0m \u001b[0;32min\u001b[0m\u001b[0;34m-\u001b[0m\u001b[0mplace\u001b[0m\u001b[0;34m.\u001b[0m\u001b[0;34m\u001b[0m\u001b[0m\n\u001b[1;32m   3267\u001b[0m         \"\"\"\n\u001b[0;32m-> 3268\u001b[0;31m         \u001b[0mindexer\u001b[0m \u001b[0;34m=\u001b[0m \u001b[0mself\u001b[0m\u001b[0;34m.\u001b[0m\u001b[0mitems\u001b[0m\u001b[0;34m.\u001b[0m\u001b[0mget_loc\u001b[0m\u001b[0;34m(\u001b[0m\u001b[0mitem\u001b[0m\u001b[0;34m)\u001b[0m\u001b[0;34m\u001b[0m\u001b[0m\n\u001b[0m\u001b[1;32m   3269\u001b[0m \u001b[0;34m\u001b[0m\u001b[0m\n\u001b[1;32m   3270\u001b[0m         \u001b[0mis_deleted\u001b[0m \u001b[0;34m=\u001b[0m \u001b[0mnp\u001b[0m\u001b[0;34m.\u001b[0m\u001b[0mzeros\u001b[0m\u001b[0;34m(\u001b[0m\u001b[0mself\u001b[0m\u001b[0;34m.\u001b[0m\u001b[0mshape\u001b[0m\u001b[0;34m[\u001b[0m\u001b[0;36m0\u001b[0m\u001b[0;34m]\u001b[0m\u001b[0;34m,\u001b[0m \u001b[0mdtype\u001b[0m\u001b[0;34m=\u001b[0m\u001b[0mnp\u001b[0m\u001b[0;34m.\u001b[0m\u001b[0mbool_\u001b[0m\u001b[0;34m)\u001b[0m\u001b[0;34m\u001b[0m\u001b[0m\n",
      "\u001b[0;32m/Users/james/anaconda/lib/python2.7/site-packages/pandas/core/index.pyc\u001b[0m in \u001b[0;36mget_loc\u001b[0;34m(self, key, method, tolerance)\u001b[0m\n\u001b[1;32m   1757\u001b[0m                                  'backfill or nearest lookups')\n\u001b[1;32m   1758\u001b[0m             \u001b[0mkey\u001b[0m \u001b[0;34m=\u001b[0m \u001b[0m_values_from_object\u001b[0m\u001b[0;34m(\u001b[0m\u001b[0mkey\u001b[0m\u001b[0;34m)\u001b[0m\u001b[0;34m\u001b[0m\u001b[0m\n\u001b[0;32m-> 1759\u001b[0;31m             \u001b[0;32mreturn\u001b[0m \u001b[0mself\u001b[0m\u001b[0;34m.\u001b[0m\u001b[0m_engine\u001b[0m\u001b[0;34m.\u001b[0m\u001b[0mget_loc\u001b[0m\u001b[0;34m(\u001b[0m\u001b[0mkey\u001b[0m\u001b[0;34m)\u001b[0m\u001b[0;34m\u001b[0m\u001b[0m\n\u001b[0m\u001b[1;32m   1760\u001b[0m \u001b[0;34m\u001b[0m\u001b[0m\n\u001b[1;32m   1761\u001b[0m         indexer = self.get_indexer([key], method=method,\n",
      "\u001b[0;32mpandas/index.pyx\u001b[0m in \u001b[0;36mpandas.index.IndexEngine.get_loc (pandas/index.c:3979)\u001b[0;34m()\u001b[0m\n",
      "\u001b[0;32mpandas/index.pyx\u001b[0m in \u001b[0;36mpandas.index.IndexEngine.get_loc (pandas/index.c:3843)\u001b[0;34m()\u001b[0m\n",
      "\u001b[0;32mpandas/hashtable.pyx\u001b[0m in \u001b[0;36mpandas.hashtable.PyObjectHashTable.get_item (pandas/hashtable.c:12265)\u001b[0;34m()\u001b[0m\n",
      "\u001b[0;32mpandas/hashtable.pyx\u001b[0m in \u001b[0;36mpandas.hashtable.PyObjectHashTable.get_item (pandas/hashtable.c:12216)\u001b[0;34m()\u001b[0m\n",
      "\u001b[0;31mKeyError\u001b[0m: 'Sex'"
     ]
    }
   ],
   "source": [
    "df['Gender'] = sex_series\n",
    "df['Embarked_S'] = embarked_S_series\n",
    "df['Embarked_C'] = embarked_C_series\n",
    "df['Embarked_Q'] = embarked_Q_series\n",
    "del df['Sex']\n",
    "del df['Embarked']\n",
    "df.info()"
   ]
  },
  {
   "cell_type": "markdown",
   "metadata": {},
   "source": [
    "Now let's split the data into 2 sets (one where ages are non-nan, one with nan ages)."
   ]
  },
  {
   "cell_type": "code",
   "execution_count": 214,
   "metadata": {
    "collapsed": false
   },
   "outputs": [
    {
     "name": "stdout",
     "output_type": "stream",
     "text": [
      "Training set shape: 714, 15\n",
      "Prediction set shape: 177, 15\n"
     ]
    }
   ],
   "source": [
    "training_set = df[df['Age'].isnull()==False]\n",
    "prediction_set = df[df['Age'].isnull()==True]\n",
    "print \"Training set shape: {0}, {1}\".format(training_set.shape[0], training_set.shape[1])\n",
    "print \"Prediction set shape: {0}, {1}\".format(prediction_set.shape[0], prediction_set.shape[1])"
   ]
  },
  {
   "cell_type": "markdown",
   "metadata": {},
   "source": [
    "Now let's split the training set into the features and target (age), and train our linear regression classifier."
   ]
  },
  {
   "cell_type": "code",
   "execution_count": 215,
   "metadata": {
    "collapsed": false
   },
   "outputs": [
    {
     "name": "stdout",
     "output_type": "stream",
     "text": [
      "0.241856923105\n"
     ]
    }
   ],
   "source": [
    "labels = list(training_set['Age'])\n",
    "features =  training_set[['SibSp','Parch','Pclass','Fare','Gender','Embarked_S','Embarked_C','Embarked_Q']].as_matrix()\n",
    "\n",
    "from sklearn.linear_model import LinearRegression\n",
    "LR = LinearRegression(fit_intercept=True)\n",
    "LR.fit(features,labels)\n",
    "print LR.score(features,labels)"
   ]
  },
  {
   "cell_type": "markdown",
   "metadata": {},
   "source": [
    "That's not particularly good. Let's try another approach. We don't really care about the exact age. What really matters for prediction is whether someone is a child, young adult, or adult. Let's build a discrete variable based on this idea and try some other classifiers for prediction."
   ]
  },
  {
   "cell_type": "code",
   "execution_count": 232,
   "metadata": {
    "collapsed": false
   },
   "outputs": [
    {
     "data": {
      "text/html": [
       "<div>\n",
       "<table border=\"1\" class=\"dataframe\">\n",
       "  <thead>\n",
       "    <tr style=\"text-align: right;\">\n",
       "      <th></th>\n",
       "      <th>PassengerId</th>\n",
       "      <th>Survived</th>\n",
       "      <th>Pclass</th>\n",
       "      <th>Age</th>\n",
       "      <th>SibSp</th>\n",
       "      <th>Parch</th>\n",
       "      <th>Fare</th>\n",
       "      <th>Gender</th>\n",
       "      <th>Embarked_S</th>\n",
       "      <th>Embarked_C</th>\n",
       "      <th>Embarked_Q</th>\n",
       "    </tr>\n",
       "  </thead>\n",
       "  <tbody>\n",
       "    <tr>\n",
       "      <th>count</th>\n",
       "      <td>714.000000</td>\n",
       "      <td>714.000000</td>\n",
       "      <td>714.000000</td>\n",
       "      <td>714.000000</td>\n",
       "      <td>714.000000</td>\n",
       "      <td>714.000000</td>\n",
       "      <td>714.000000</td>\n",
       "      <td>714.000000</td>\n",
       "      <td>714.000000</td>\n",
       "      <td>714.000000</td>\n",
       "      <td>714.000000</td>\n",
       "    </tr>\n",
       "    <tr>\n",
       "      <th>mean</th>\n",
       "      <td>448.582633</td>\n",
       "      <td>0.406162</td>\n",
       "      <td>2.236695</td>\n",
       "      <td>2.925770</td>\n",
       "      <td>0.512605</td>\n",
       "      <td>0.431373</td>\n",
       "      <td>34.694514</td>\n",
       "      <td>0.365546</td>\n",
       "      <td>0.778711</td>\n",
       "      <td>0.182073</td>\n",
       "      <td>0.039216</td>\n",
       "    </tr>\n",
       "    <tr>\n",
       "      <th>std</th>\n",
       "      <td>259.119524</td>\n",
       "      <td>0.491460</td>\n",
       "      <td>0.838250</td>\n",
       "      <td>0.762981</td>\n",
       "      <td>0.929783</td>\n",
       "      <td>0.853289</td>\n",
       "      <td>52.918930</td>\n",
       "      <td>0.481921</td>\n",
       "      <td>0.415405</td>\n",
       "      <td>0.386175</td>\n",
       "      <td>0.194244</td>\n",
       "    </tr>\n",
       "    <tr>\n",
       "      <th>min</th>\n",
       "      <td>1.000000</td>\n",
       "      <td>0.000000</td>\n",
       "      <td>1.000000</td>\n",
       "      <td>1.000000</td>\n",
       "      <td>0.000000</td>\n",
       "      <td>0.000000</td>\n",
       "      <td>0.000000</td>\n",
       "      <td>0.000000</td>\n",
       "      <td>0.000000</td>\n",
       "      <td>0.000000</td>\n",
       "      <td>0.000000</td>\n",
       "    </tr>\n",
       "    <tr>\n",
       "      <th>25%</th>\n",
       "      <td>222.250000</td>\n",
       "      <td>0.000000</td>\n",
       "      <td>1.000000</td>\n",
       "      <td>3.000000</td>\n",
       "      <td>0.000000</td>\n",
       "      <td>0.000000</td>\n",
       "      <td>8.050000</td>\n",
       "      <td>0.000000</td>\n",
       "      <td>1.000000</td>\n",
       "      <td>0.000000</td>\n",
       "      <td>0.000000</td>\n",
       "    </tr>\n",
       "    <tr>\n",
       "      <th>50%</th>\n",
       "      <td>445.000000</td>\n",
       "      <td>0.000000</td>\n",
       "      <td>2.000000</td>\n",
       "      <td>3.000000</td>\n",
       "      <td>0.000000</td>\n",
       "      <td>0.000000</td>\n",
       "      <td>15.741700</td>\n",
       "      <td>0.000000</td>\n",
       "      <td>1.000000</td>\n",
       "      <td>0.000000</td>\n",
       "      <td>0.000000</td>\n",
       "    </tr>\n",
       "    <tr>\n",
       "      <th>75%</th>\n",
       "      <td>677.750000</td>\n",
       "      <td>1.000000</td>\n",
       "      <td>3.000000</td>\n",
       "      <td>3.000000</td>\n",
       "      <td>1.000000</td>\n",
       "      <td>1.000000</td>\n",
       "      <td>33.375000</td>\n",
       "      <td>1.000000</td>\n",
       "      <td>1.000000</td>\n",
       "      <td>0.000000</td>\n",
       "      <td>0.000000</td>\n",
       "    </tr>\n",
       "    <tr>\n",
       "      <th>max</th>\n",
       "      <td>891.000000</td>\n",
       "      <td>1.000000</td>\n",
       "      <td>3.000000</td>\n",
       "      <td>4.000000</td>\n",
       "      <td>5.000000</td>\n",
       "      <td>6.000000</td>\n",
       "      <td>512.329200</td>\n",
       "      <td>1.000000</td>\n",
       "      <td>1.000000</td>\n",
       "      <td>1.000000</td>\n",
       "      <td>1.000000</td>\n",
       "    </tr>\n",
       "  </tbody>\n",
       "</table>\n",
       "</div>"
      ],
      "text/plain": [
       "       PassengerId    Survived      Pclass         Age       SibSp  \\\n",
       "count   714.000000  714.000000  714.000000  714.000000  714.000000   \n",
       "mean    448.582633    0.406162    2.236695    2.925770    0.512605   \n",
       "std     259.119524    0.491460    0.838250    0.762981    0.929783   \n",
       "min       1.000000    0.000000    1.000000    1.000000    0.000000   \n",
       "25%     222.250000    0.000000    1.000000    3.000000    0.000000   \n",
       "50%     445.000000    0.000000    2.000000    3.000000    0.000000   \n",
       "75%     677.750000    1.000000    3.000000    3.000000    1.000000   \n",
       "max     891.000000    1.000000    3.000000    4.000000    5.000000   \n",
       "\n",
       "            Parch        Fare      Gender  Embarked_S  Embarked_C  Embarked_Q  \n",
       "count  714.000000  714.000000  714.000000  714.000000  714.000000  714.000000  \n",
       "mean     0.431373   34.694514    0.365546    0.778711    0.182073    0.039216  \n",
       "std      0.853289   52.918930    0.481921    0.415405    0.386175    0.194244  \n",
       "min      0.000000    0.000000    0.000000    0.000000    0.000000    0.000000  \n",
       "25%      0.000000    8.050000    0.000000    1.000000    0.000000    0.000000  \n",
       "50%      0.000000   15.741700    0.000000    1.000000    0.000000    0.000000  \n",
       "75%      1.000000   33.375000    1.000000    1.000000    0.000000    0.000000  \n",
       "max      6.000000  512.329200    1.000000    1.000000    1.000000    1.000000  "
      ]
     },
     "execution_count": 232,
     "metadata": {},
     "output_type": "execute_result"
    }
   ],
   "source": [
    "# pick some arbitrary bounds for age groups - we can optimize these bounds later, but that's for another post\n",
    "def get_age_group(age):\n",
    "    if age < 12: # Children\n",
    "        return 1\n",
    "    elif age < 17: # Young adults\n",
    "        return 2\n",
    "    elif age < 45: # Adults\n",
    "        return 3\n",
    "    elif age <100: # Seniors\n",
    "        return 4\n",
    "    else:\n",
    "        return age\n",
    "age_groups = df['Age'].apply(get_age_group)\n",
    "df['Age'] = age_groups\n",
    "training_set.describe()"
   ]
  },
  {
   "cell_type": "markdown",
   "metadata": {},
   "source": [
    "Now let's build our classifier for predicting age group. We'll split our training_set into 2 components to fit and test on. We'll start by trying a random forest for prediction."
   ]
  },
  {
   "cell_type": "code",
   "execution_count": 217,
   "metadata": {
    "collapsed": false
   },
   "outputs": [
    {
     "name": "stdout",
     "output_type": "stream",
     "text": [
      "Accuracy score of random forest on training data: 0.90167364016736407\n",
      "Accuracy score of random forest on test data: 0.63983050847457623\n"
     ]
    }
   ],
   "source": [
    "from sklearn.cross_validation import train_test_split\n",
    "from sklearn.ensemble import RandomForestClassifier\n",
    "from sklearn.metrics import accuracy_score\n",
    "\n",
    "# split into features and labels, grabbing only numerical predictors\n",
    "labels = list(training_set['Age'])\n",
    "features =  training_set[['SibSp','Parch','Pclass','Fare','Gender','Embarked_S','Embarked_C','Embarked_Q']].as_matrix()\n",
    "\n",
    "X_fit, X_test, y_fit, y_predict = train_test_split(features,labels, test_size = 0.33)\n",
    "rf = RandomForestClassifier()\n",
    "\n",
    "rf.fit(X_fit,y_fit)\n",
    "pred_train = rf.predict(X_fit)\n",
    "pred = rf.predict(X_test)\n",
    "print \"Accuracy score of random forest on training data: %r\"%accuracy_score(y_fit,pred_train)\n",
    "print \"Accuracy score of random forest on test data: %r\"%accuracy_score(y_predict,pred)"
   ]
  },
  {
   "cell_type": "markdown",
   "metadata": {},
   "source": [
    "68% isn't too bad, but such a big discrepancy between the accuracy on the fitting set and the test set suggests overfitting. Let's see if we can get a little better by doing a grid search of some of the parameters of the random forest model."
   ]
  },
  {
   "cell_type": "code",
   "execution_count": 218,
   "metadata": {
    "collapsed": false
   },
   "outputs": [
    {
     "name": "stdout",
     "output_type": "stream",
     "text": [
      "Accuracy score of random forest on training data: 0.76778242677824271\n",
      "Accuracy score of random forest on test data: 0.72881355932203384\n",
      "Best parameters found by grid search: {'min_samples_split': 10, 'n_estimators': 100, 'criterion': 'gini', 'max_depth': 5}\n"
     ]
    }
   ],
   "source": [
    "import numpy as np\n",
    "from sklearn.grid_search import GridSearchCV\n",
    "\n",
    "parameters = {'n_estimators':[10,100,500],\n",
    "             'criterion': ['gini','entropy'],\n",
    "             'max_depth': [None, 5, 10],\n",
    "             'min_samples_split': [2,5,10,25]}\n",
    "\n",
    "rf = RandomForestClassifier()\n",
    "clf = GridSearchCV(rf,parameters)\n",
    "clf.fit(X_fit,y_fit)\n",
    "pred_train = clf.predict(X_fit)\n",
    "pred = clf.predict(X_test)\n",
    "\n",
    "print \"Accuracy score of random forest on training data: %r\"%accuracy_score(y_fit,pred_train)\n",
    "print \"Accuracy score of random forest on test data: %r\"%accuracy_score(y_predict,pred)\n",
    "print \"Best parameters found by grid search: %r\"%clf.best_params_"
   ]
  },
  {
   "cell_type": "markdown",
   "metadata": {},
   "source": [
    "Now we're up to about 75%. This is pretty good! Having the test and fit set accuracy so close together means we aren't overfitting. One last thing we'll do for fun before filling in our nan values is to check out which features are most important to the random forest."
   ]
  },
  {
   "cell_type": "code",
   "execution_count": 219,
   "metadata": {
    "collapsed": false
   },
   "outputs": [
    {
     "name": "stdout",
     "output_type": "stream",
     "text": [
      "Feature ranking:\n",
      "1. feature 'Fare' (0.283987)\n",
      "2. feature 'SibSp' (0.236449)\n",
      "3. feature 'Parch' (0.209467)\n",
      "4. feature 'Pclass' (0.139602)\n",
      "5. feature 'Gender' (0.051926)\n",
      "6. feature 'Embarked_C' (0.034302)\n",
      "7. feature 'Embarked_S' (0.028773)\n",
      "8. feature 'Embarked_Q' (0.015494)\n"
     ]
    }
   ],
   "source": [
    "rf_best = clf.best_estimator_\n",
    "importances = rf_best.feature_importances_\n",
    "std = np.std([tree.feature_importances_ for tree in rf_best.estimators_],axis=0)\n",
    "indices = np.argsort(importances)[::-1]\n",
    "column_values = ['SibSp','Parch','Pclass','Fare','Gender','Embarked_S','Embarked_C','Embarked_Q']\n",
    "\n",
    "print \"Feature ranking:\"\n",
    "for f in range(X_fit.shape[1]):\n",
    "    print(\"%d. feature %r (%f)\" % (f + 1, column_values[indices[f]], importances[indices[f]]))"
   ]
  },
  {
   "cell_type": "code",
   "execution_count": 220,
   "metadata": {
    "collapsed": false
   },
   "outputs": [
    {
     "data": {
      "image/png": "[encoded data removed]",
      "text/plain": [
       "<matplotlib.figure.Figure at 0x12369cfd0>"
      ]
     },
     "metadata": {},
     "output_type": "display_data"
    }
   ],
   "source": [
    "sorted_cols = [column_values[index] for index in indices]\n",
    "sorted_importances = [importances[index] for index in indices]\n",
    "plot = plt.bar(range(len(importances)), sorted_importances)"
   ]
  },
  {
   "cell_type": "markdown",
   "metadata": {},
   "source": [
    "So our hypothesis was accurate - SibSp and Parch are important in predicting age, in addition to Fare and Pclass. Fare being the best predictor is interesting - maybe children and seniors paid less? Unsurprisingly, Gender, and the various embarked features don't seem to have much of an effect.  \n",
    "\n",
    "Now we're ready to fill in the 'Age' column using our random forest. Remember that we converted the ages given into an age group. Let's do this for the full dataset. One thing I'd like to mention is that I'm not sure of the most efficient way to do this so I'm going to hack it together. Let me know if you're reading this and I'm missing something easy.\n",
    "\n",
    "First, we make predictions for the rows with missing ages."
   ]
  },
  {
   "cell_type": "code",
   "execution_count": 237,
   "metadata": {
    "collapsed": false
   },
   "outputs": [],
   "source": [
    "features_predict =  prediction_set[['SibSp','Parch','Pclass','Fare','Gender','Embarked_S','Embarked_C','Embarked_Q']].\\\n",
    "as_matrix()\n",
    "predictions = clf.predict(features_predict)"
   ]
  },
  {
   "cell_type": "markdown",
   "metadata": {},
   "source": [
    "Now we need to get the indices of the rows of the original dataframe with missing ages."
   ]
  },
  {
   "cell_type": "code",
   "execution_count": 222,
   "metadata": {
    "collapsed": false
   },
   "outputs": [
    {
     "name": "stdout",
     "output_type": "stream",
     "text": [
      "[5, 17, 19, 26, 28, 29, 31, 32, 36, 42, 45, 46, 47, 48, 55, 64, 65, 76, 77, 82, 87, 95, 101, 107, 109, 121, 126, 128, 140, 154, 158, 159, 166, 168, 176, 180, 181, 185, 186, 196, 198, 201, 214, 223, 229, 235, 240, 241, 250, 256, 260, 264, 270, 274, 277, 284, 295, 298, 300, 301, 303, 304, 306, 324, 330, 334, 335, 347, 351, 354, 358, 359, 364, 367, 368, 375, 384, 388, 409, 410, 411, 413, 415, 420, 425, 428, 431, 444, 451, 454, 457, 459, 464, 466, 468, 470, 475, 481, 485, 490, 495, 497, 502, 507, 511, 517, 522, 524, 527, 531, 533, 538, 547, 552, 557, 560, 563, 564, 568, 573, 578, 584, 589, 593, 596, 598, 601, 602, 611, 612, 613, 629, 633, 639, 643, 648, 650, 653, 656, 667, 669, 674, 680, 692, 697, 709, 711, 718, 727, 732, 738, 739, 740, 760, 766, 768, 773, 776, 778, 783, 790, 792, 793, 815, 825, 826, 828, 832, 837, 839, 846, 849, 859, 863, 868, 878, 888]\n"
     ]
    }
   ],
   "source": [
    "nan_indices = df[df['Age'].isnull()].index.tolist()\n",
    "print nan_indices"
   ]
  },
  {
   "cell_type": "markdown",
   "metadata": {},
   "source": [
    "One last thing I'd like to do before we fill in the values is add an additional column that keeps track of whether age is missing. We didn't do this for 'embark' because it was only 2 values, but for age there may be a particular reason that the values were missing. If we fill them in blindly, we'll lose that information. Later we'll do this for cabin as well."
   ]
  },
  {
   "cell_type": "code",
   "execution_count": 236,
   "metadata": {
    "collapsed": false
   },
   "outputs": [],
   "source": [
    "df['missing_age'] = df['Age'].apply(lambda x: 0 if x in [0,1,2,3,4] else 1)"
   ]
  },
  {
   "cell_type": "markdown",
   "metadata": {},
   "source": [
    "Now let's create our series of predictions and fill in the values for missing ages using fillna."
   ]
  },
  {
   "cell_type": "code",
   "execution_count": 250,
   "metadata": {
    "collapsed": false
   },
   "outputs": [
    {
     "name": "stdout",
     "output_type": "stream",
     "text": [
      "<class 'pandas.core.frame.DataFrame'>\n",
      "Int64Index: 891 entries, 0 to 890\n",
      "Data columns (total 16 columns):\n",
      "PassengerId    891 non-null int64\n",
      "Survived       891 non-null int64\n",
      "Pclass         891 non-null int64\n",
      "Name           891 non-null object\n",
      "Age            891 non-null float64\n",
      "SibSp          891 non-null int64\n",
      "Parch          891 non-null int64\n",
      "Ticket         891 non-null object\n",
      "Fare           891 non-null float64\n",
      "Cabin          204 non-null object\n",
      "Deck           204 non-null object\n",
      "Gender         891 non-null int64\n",
      "Embarked_S     891 non-null int64\n",
      "Embarked_C     891 non-null int64\n",
      "Embarked_Q     891 non-null int64\n",
      "missing_age    891 non-null int64\n",
      "dtypes: float64(2), int64(10), object(4)\n",
      "memory usage: 118.3+ KB\n"
     ]
    }
   ],
   "source": [
    "pred_series = pd.Series(data = predictions, index = nan_indices)\n",
    "df.loc[df['Age'].isnull(),'Age'] = pred_series[df.loc[df['Age'].isnull()].index]\n",
    "df.info()"
   ]
  },
  {
   "cell_type": "markdown",
   "metadata": {},
   "source": [
    "Finally! We've successfully filled in values for age. Now let's quickly handle cabin/deck. It's not really worth imputing values for these since less than 25% of the passengers have data; whatever we do will likely introduce significant bias into our model. Let's do three things:\n",
    "1. Eliminate the 'Cabin' column altogether - what deck they're on is likely significantly more important than the specific room.\n",
    "2. Create a set of binary features based on what deck they were on.\n",
    "3. Create another binary feature to indicate whether or not they were missing cabin data."
   ]
  },
  {
   "cell_type": "code",
   "execution_count": 253,
   "metadata": {
    "collapsed": false
   },
   "outputs": [
    {
     "data": {
      "text/plain": [
       "array([nan, 'C', 'E', 'G', 'D', 'A', 'B', 'F', 'T'], dtype=object)"
      ]
     },
     "execution_count": 253,
     "metadata": {},
     "output_type": "execute_result"
    }
   ],
   "source": [
    "df['Deck'].unique()"
   ]
  },
  {
   "cell_type": "code",
   "execution_count": 254,
   "metadata": {
    "collapsed": true
   },
   "outputs": [],
   "source": [
    "deck_c = df['Deck'].apply(lambda x: 1 if x == 'C' else 0)\n",
    "deck_e = df['Deck'].apply(lambda x: 1 if x == 'C' else 0)\n",
    "deck_g = df['Deck'].apply(lambda x: 1 if x == 'C' else 0)\n",
    "deck_d = df['Deck'].apply(lambda x: 1 if x == 'C' else 0)\n",
    "deck_a = df['Deck'].apply(lambda x: 1 if x == 'C' else 0)\n",
    "deck_b = df['Deck'].apply(lambda x: 1 if x == 'C' else 0)\n",
    "deck_f = df['Deck'].apply(lambda x: 1 if x == 'C' else 0)\n",
    "deck_t = df['Deck'].apply(lambda x: 1 if x == 'C' else 0)\n",
    "missing_deck = df['Deck'].apply(lambda x: 0 if x in ['C', 'E', 'G', 'D', 'A', 'B', 'F', 'T'] else 1)"
   ]
  },
  {
   "cell_type": "markdown",
   "metadata": {},
   "source": [
    "Now let's add columns for each of these and delete the originals:"
   ]
  },
  {
   "cell_type": "code",
   "execution_count": 255,
   "metadata": {
    "collapsed": false
   },
   "outputs": [
    {
     "name": "stdout",
     "output_type": "stream",
     "text": [
      "<class 'pandas.core.frame.DataFrame'>\n",
      "Int64Index: 891 entries, 0 to 890\n",
      "Data columns (total 23 columns):\n",
      "PassengerId     891 non-null int64\n",
      "Survived        891 non-null int64\n",
      "Pclass          891 non-null int64\n",
      "Name            891 non-null object\n",
      "Age             891 non-null float64\n",
      "SibSp           891 non-null int64\n",
      "Parch           891 non-null int64\n",
      "Ticket          891 non-null object\n",
      "Fare            891 non-null float64\n",
      "Gender          891 non-null int64\n",
      "Embarked_S      891 non-null int64\n",
      "Embarked_C      891 non-null int64\n",
      "Embarked_Q      891 non-null int64\n",
      "missing_age     891 non-null int64\n",
      "deck_c          891 non-null int64\n",
      "deck_e          891 non-null int64\n",
      "deck_g          891 non-null int64\n",
      "deck_d          891 non-null int64\n",
      "deck_a          891 non-null int64\n",
      "deck_b          891 non-null int64\n",
      "deck_f          891 non-null int64\n",
      "deck_t          891 non-null int64\n",
      "missing_deck    891 non-null int64\n",
      "dtypes: float64(2), int64(19), object(2)\n",
      "memory usage: 167.1+ KB\n"
     ]
    }
   ],
   "source": [
    "df['deck_c'] = deck_c\n",
    "df['deck_e'] = deck_e\n",
    "df['deck_g'] = deck_g\n",
    "df['deck_d'] = deck_d\n",
    "df['deck_a'] = deck_a\n",
    "df['deck_b'] = deck_b\n",
    "df['deck_f'] = deck_f\n",
    "df['deck_t'] = deck_t\n",
    "df['missing_deck'] = missing_deck\n",
    "del df['Deck']\n",
    "del df['Cabin']\n",
    "df.info()"
   ]
  },
  {
   "cell_type": "markdown",
   "metadata": {},
   "source": [
    "Now we have 2 more columns to handle: Name and Ticket. Let's look at the Ticket column first:"
   ]
  },
  {
   "cell_type": "code",
   "execution_count": 256,
   "metadata": {
    "collapsed": false
   },
   "outputs": [
    {
     "data": {
      "text/plain": [
       "0           A/5 21171\n",
       "1            PC 17599\n",
       "2    STON/O2. 3101282\n",
       "3              113803\n",
       "4              373450\n",
       "5              330877\n",
       "6               17463\n",
       "7              349909\n",
       "8              347742\n",
       "9              237736\n",
       "Name: Ticket, dtype: object"
      ]
     },
     "execution_count": 256,
     "metadata": {},
     "output_type": "execute_result"
    }
   ],
   "source": [
    "df['Ticket'].head(10)"
   ]
  },
  {
   "cell_type": "code",
   "execution_count": 257,
   "metadata": {
    "collapsed": false
   },
   "outputs": [
    {
     "data": {
      "text/plain": [
       "681"
      ]
     },
     "execution_count": 257,
     "metadata": {},
     "output_type": "execute_result"
    }
   ],
   "source": [
    "len(df['Ticket'].unique())"
   ]
  },
  {
   "cell_type": "markdown",
   "metadata": {},
   "source": [
    "681 unique values out of 891 data points. It looks like the column is just the number of the ticket purchase. We can probably safely remove this column. Let's do that."
   ]
  },
  {
   "cell_type": "code",
   "execution_count": 258,
   "metadata": {
    "collapsed": true
   },
   "outputs": [],
   "source": [
    "del df['Ticket']"
   ]
  },
  {
   "cell_type": "markdown",
   "metadata": {},
   "source": [
    "Now let's look at the passenger names. For the most part, these won't be too helpful. The one thing I'd like to do is extract the title from each name. Let's take a look at the possible titles:"
   ]
  },
  {
   "cell_type": "code",
   "execution_count": 259,
   "metadata": {
    "collapsed": false
   },
   "outputs": [
    {
     "data": {
      "text/plain": [
       "0                              Braund, Mr. Owen Harris\n",
       "1    Cumings, Mrs. John Bradley (Florence Briggs Th...\n",
       "2                               Heikkinen, Miss. Laina\n",
       "3         Futrelle, Mrs. Jacques Heath (Lily May Peel)\n",
       "4                             Allen, Mr. William Henry\n",
       "Name: Name, dtype: object"
      ]
     },
     "execution_count": 259,
     "metadata": {},
     "output_type": "execute_result"
    }
   ],
   "source": [
    "df['Name'].head()"
   ]
  },
  {
   "cell_type": "code",
   "execution_count": 263,
   "metadata": {
    "collapsed": false
   },
   "outputs": [
    {
     "name": "stdout",
     "output_type": "stream",
     "text": [
      "Mr          517\n",
      "Miss        182\n",
      "Mrs         125\n",
      "Master       40\n",
      "Dr            7\n",
      "Rev           6\n",
      "Major         2\n",
      "Col           2\n",
      "Mlle          2\n",
      "Jonkheer      1\n",
      "Ms            1\n",
      "Lady          1\n",
      "the           1\n",
      "Don           1\n",
      "Mme           1\n",
      "Capt          1\n",
      "Sir           1\n",
      "Name: Name, dtype: int64\n"
     ]
    }
   ],
   "source": [
    "titles = df['Name'].apply(lambda x: x.split(', ')[1].split()[0].strip('.'))\n",
    "print titles.value_counts()"
   ]
  },
  {
   "cell_type": "markdown",
   "metadata": {},
   "source": [
    "Now let's condense these to a smaller, standardized set of titles:"
   ]
  },
  {
   "cell_type": "code",
   "execution_count": 265,
   "metadata": {
    "collapsed": false
   },
   "outputs": [
    {
     "data": {
      "text/plain": [
       "mr      557\n",
       "miss    185\n",
       "mrs     126\n",
       "rare     23\n",
       "Name: Name, dtype: int64"
      ]
     },
     "execution_count": 265,
     "metadata": {},
     "output_type": "execute_result"
    }
   ],
   "source": [
    "title_mapping = {'Mr': 'mr',\n",
    "                'Miss': 'miss',\n",
    "                'Mrs': 'mrs',\n",
    "                'Master': 'mr',\n",
    "                'Mlle': 'miss',\n",
    "                'Ms': 'miss',\n",
    "                'Mme': 'mrs'}\n",
    "condensed_titles = titles.apply(lambda x: title_mapping[x] if x in title_mapping else 'rare')\n",
    "condensed_titles.value_counts()"
   ]
  },
  {
   "cell_type": "markdown",
   "metadata": {},
   "source": [
    "Now let's create binary features for each title and add them to the dataframe:"
   ]
  },
  {
   "cell_type": "code",
   "execution_count": 266,
   "metadata": {
    "collapsed": false
   },
   "outputs": [
    {
     "name": "stdout",
     "output_type": "stream",
     "text": [
      "<class 'pandas.core.frame.DataFrame'>\n",
      "Int64Index: 891 entries, 0 to 890\n",
      "Data columns (total 25 columns):\n",
      "PassengerId     891 non-null int64\n",
      "Survived        891 non-null int64\n",
      "Pclass          891 non-null int64\n",
      "Age             891 non-null float64\n",
      "SibSp           891 non-null int64\n",
      "Parch           891 non-null int64\n",
      "Fare            891 non-null float64\n",
      "Gender          891 non-null int64\n",
      "Embarked_S      891 non-null int64\n",
      "Embarked_C      891 non-null int64\n",
      "Embarked_Q      891 non-null int64\n",
      "missing_age     891 non-null int64\n",
      "deck_c          891 non-null int64\n",
      "deck_e          891 non-null int64\n",
      "deck_g          891 non-null int64\n",
      "deck_d          891 non-null int64\n",
      "deck_a          891 non-null int64\n",
      "deck_b          891 non-null int64\n",
      "deck_f          891 non-null int64\n",
      "deck_t          891 non-null int64\n",
      "missing_deck    891 non-null int64\n",
      "is_mr           891 non-null int64\n",
      "is_miss         891 non-null int64\n",
      "is_mrs          891 non-null int64\n",
      "is_rare         891 non-null int64\n",
      "dtypes: float64(2), int64(23)\n",
      "memory usage: 181.0 KB\n"
     ]
    }
   ],
   "source": [
    "is_mr = condensed_titles.apply(lambda x: 1 if x == 'mr' else 0)\n",
    "is_miss = condensed_titles.apply(lambda x: 1 if x == 'miss' else 0)\n",
    "is_mrs = condensed_titles.apply(lambda x: 1 if x == 'mrs' else 0)\n",
    "is_rare = condensed_titles.apply(lambda x: 1 if x == 'rare' else 0)\n",
    "\n",
    "df['is_mr'] = is_mr\n",
    "df['is_miss'] = is_miss\n",
    "df['is_mrs'] = is_mrs\n",
    "df['is_rare'] = is_rare\n",
    "\n",
    "del df['Name']\n",
    "\n",
    "df.info()"
   ]
  },
  {
   "cell_type": "markdown",
   "metadata": {},
   "source": [
    "And we're ready to go! All columns are filled in with numeric values. We're ready to build our classifier."
   ]
  },
  {
   "cell_type": "markdown",
   "metadata": {},
   "source": [
    "## Building the classifier\n",
    "Whew, that took a while. Feature engineering can be tedious but it's incredibly important. Now let's build a classifier and see how accurate we can get. Let's start by creating our test and train datasets."
   ]
  },
  {
   "cell_type": "code",
   "execution_count": 272,
   "metadata": {
    "collapsed": false
   },
   "outputs": [],
   "source": [
    "labels = list(df['Survived'])\n",
    "features = df.ix[:,'Pclass':].as_matrix()\n",
    "\n",
    "X_train, X_test, y_train, y_predict = train_test_split(features,labels, test_size = 0.33)"
   ]
  },
  {
   "cell_type": "markdown",
   "metadata": {},
   "source": [
    "Now let's build our classifier. We have a lot of binary data and a small number of categories, so we'll start with a random forest again."
   ]
  },
  {
   "cell_type": "code",
   "execution_count": 273,
   "metadata": {
    "collapsed": false
   },
   "outputs": [
    {
     "name": "stdout",
     "output_type": "stream",
     "text": [
      "Accuracy score of random forest on training data: 0.86577181208053688\n",
      "Accuracy score of random forest on test data: 0.8203389830508474\n",
      "Best parameters found by grid search: {'min_samples_split': 10, 'n_estimators': 10, 'criterion': 'entropy', 'max_depth': 10}\n"
     ]
    }
   ],
   "source": [
    "parameters = {'n_estimators':[10,100,500],\n",
    "             'criterion': ['gini','entropy'],\n",
    "             'max_depth': [None, 5, 10],\n",
    "             'min_samples_split': [2,5,10,25]}\n",
    "\n",
    "rf = RandomForestClassifier()\n",
    "clf = GridSearchCV(rf,parameters)\n",
    "clf.fit(X_train,y_train)\n",
    "pred_train = clf.predict(X_train)\n",
    "pred = clf.predict(X_test)\n",
    "\n",
    "print \"Accuracy score of random forest on training data: %r\"%accuracy_score(y_train,pred_train)\n",
    "print \"Accuracy score of random forest on test data: %r\"%accuracy_score(y_predict,pred)\n",
    "print \"Best parameters found by grid search: %r\"%clf.best_params_"
   ]
  },
  {
   "cell_type": "code",
   "execution_count": null,
   "metadata": {
    "collapsed": true
   },
   "outputs": [],
   "source": []
  }
 ],
 "metadata": {
  "kernelspec": {
   "display_name": "Python 2",
   "language": "python",
   "name": "python2"
  },
  "language_info": {
   "codemirror_mode": {
    "name": "ipython",
    "version": 2
   },
   "file_extension": ".py",
   "mimetype": "text/x-python",
   "name": "python",
   "nbconvert_exporter": "python",
   "pygments_lexer": "ipython2",
   "version": "2.7.11"
  }
 },
 "nbformat": 4,
 "nbformat_minor": 0
}
